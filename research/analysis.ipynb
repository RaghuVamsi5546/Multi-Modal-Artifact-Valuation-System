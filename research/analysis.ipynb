{
 "cells": [
  {
   "cell_type": "code",
   "execution_count": 1,
   "id": "3ab7eb20",
   "metadata": {},
   "outputs": [],
   "source": [
    "import pandas as pd\n",
    "import os"
   ]
  },
  {
   "cell_type": "code",
   "execution_count": 2,
   "id": "f5e63317",
   "metadata": {},
   "outputs": [
    {
     "data": {
      "text/plain": [
       "'c:\\\\Users\\\\Raghu Vamsi\\\\Desktop\\\\Multi-Modal Artifact Valuation System\\\\research'"
      ]
     },
     "execution_count": 2,
     "metadata": {},
     "output_type": "execute_result"
    }
   ],
   "source": [
    "%pwd"
   ]
  },
  {
   "cell_type": "code",
   "execution_count": 3,
   "id": "9c46d2e8",
   "metadata": {},
   "outputs": [
    {
     "data": {
      "text/html": [
       "<div>\n",
       "<style scoped>\n",
       "    .dataframe tbody tr th:only-of-type {\n",
       "        vertical-align: middle;\n",
       "    }\n",
       "\n",
       "    .dataframe tbody tr th {\n",
       "        vertical-align: top;\n",
       "    }\n",
       "\n",
       "    .dataframe thead th {\n",
       "        text-align: right;\n",
       "    }\n",
       "</style>\n",
       "<table border=\"1\" class=\"dataframe\">\n",
       "  <thead>\n",
       "    <tr style=\"text-align: right;\">\n",
       "      <th></th>\n",
       "      <th>id</th>\n",
       "      <th>item_type</th>\n",
       "      <th>weight_grams</th>\n",
       "      <th>height_cm</th>\n",
       "      <th>width_cm</th>\n",
       "      <th>depth_cm</th>\n",
       "      <th>primary_material</th>\n",
       "      <th>secondary_material</th>\n",
       "      <th>gem_type</th>\n",
       "      <th>gem_count</th>\n",
       "      <th>...</th>\n",
       "      <th>restoration_status</th>\n",
       "      <th>authentication_status</th>\n",
       "      <th>monetary_value_gold</th>\n",
       "      <th>historical_significance</th>\n",
       "      <th>cursed_status</th>\n",
       "      <th>shine_factor</th>\n",
       "      <th>damage_resistance</th>\n",
       "      <th>set_piece</th>\n",
       "      <th>description</th>\n",
       "      <th>preservation_score</th>\n",
       "    </tr>\n",
       "  </thead>\n",
       "  <tbody>\n",
       "    <tr>\n",
       "      <th>0</th>\n",
       "      <td>1</td>\n",
       "      <td>amulet</td>\n",
       "      <td>7.00</td>\n",
       "      <td>4.00</td>\n",
       "      <td>2.00</td>\n",
       "      <td>1.00</td>\n",
       "      <td>bronze</td>\n",
       "      <td>leather</td>\n",
       "      <td>emerald</td>\n",
       "      <td>3</td>\n",
       "      <td>...</td>\n",
       "      <td>cleaned</td>\n",
       "      <td>probable</td>\n",
       "      <td>5.26</td>\n",
       "      <td>major</td>\n",
       "      <td>0</td>\n",
       "      <td>0.61</td>\n",
       "      <td>0.79</td>\n",
       "      <td>0</td>\n",
       "      <td>Forged in the shadowy workshops of a legendary...</td>\n",
       "      <td>98.961998</td>\n",
       "    </tr>\n",
       "    <tr>\n",
       "      <th>1</th>\n",
       "      <td>2</td>\n",
       "      <td>ring</td>\n",
       "      <td>3.00</td>\n",
       "      <td>1.50</td>\n",
       "      <td>2.60</td>\n",
       "      <td>0.40</td>\n",
       "      <td>copper</td>\n",
       "      <td>none</td>\n",
       "      <td>ruby</td>\n",
       "      <td>5</td>\n",
       "      <td>...</td>\n",
       "      <td>reconstructed</td>\n",
       "      <td>questionable</td>\n",
       "      <td>7.00</td>\n",
       "      <td>minor</td>\n",
       "      <td>0</td>\n",
       "      <td>0.71</td>\n",
       "      <td>0.51</td>\n",
       "      <td>1</td>\n",
       "      <td>Forged in the crucible of ancient warfare, thi...</td>\n",
       "      <td>8.524093</td>\n",
       "    </tr>\n",
       "    <tr>\n",
       "      <th>2</th>\n",
       "      <td>3</td>\n",
       "      <td>ring</td>\n",
       "      <td>3.05</td>\n",
       "      <td>1.50</td>\n",
       "      <td>2.30</td>\n",
       "      <td>0.80</td>\n",
       "      <td>brass</td>\n",
       "      <td>bone</td>\n",
       "      <td>diamond</td>\n",
       "      <td>3</td>\n",
       "      <td>...</td>\n",
       "      <td>cleaned</td>\n",
       "      <td>replica</td>\n",
       "      <td>8.62</td>\n",
       "      <td>military+commemorative</td>\n",
       "      <td>0</td>\n",
       "      <td>0.89</td>\n",
       "      <td>0.84</td>\n",
       "      <td>0</td>\n",
       "      <td>A masterfully crafted military ring emerges fr...</td>\n",
       "      <td>100.000000</td>\n",
       "    </tr>\n",
       "    <tr>\n",
       "      <th>3</th>\n",
       "      <td>4</td>\n",
       "      <td>crown</td>\n",
       "      <td>507.36</td>\n",
       "      <td>15.81</td>\n",
       "      <td>4.62</td>\n",
       "      <td>2.01</td>\n",
       "      <td>silver</td>\n",
       "      <td>cloth</td>\n",
       "      <td>ruby</td>\n",
       "      <td>4</td>\n",
       "      <td>...</td>\n",
       "      <td>cleaned</td>\n",
       "      <td>verified</td>\n",
       "      <td>6323.32</td>\n",
       "      <td>royal</td>\n",
       "      <td>0</td>\n",
       "      <td>0.53</td>\n",
       "      <td>0.82</td>\n",
       "      <td>0</td>\n",
       "      <td>Forged in the heart of an ancient palace, this...</td>\n",
       "      <td>97.696450</td>\n",
       "    </tr>\n",
       "    <tr>\n",
       "      <th>4</th>\n",
       "      <td>5</td>\n",
       "      <td>ring</td>\n",
       "      <td>3.40</td>\n",
       "      <td>1.50</td>\n",
       "      <td>4.00</td>\n",
       "      <td>1.50</td>\n",
       "      <td>platinum</td>\n",
       "      <td>bone</td>\n",
       "      <td>ruby</td>\n",
       "      <td>1</td>\n",
       "      <td>...</td>\n",
       "      <td>restored</td>\n",
       "      <td>probable</td>\n",
       "      <td>12.10</td>\n",
       "      <td>legendary</td>\n",
       "      <td>0</td>\n",
       "      <td>0.29</td>\n",
       "      <td>0.30</td>\n",
       "      <td>0</td>\n",
       "      <td>Emerging from the depths of an ancient cave, t...</td>\n",
       "      <td>87.634386</td>\n",
       "    </tr>\n",
       "  </tbody>\n",
       "</table>\n",
       "<p>5 rows × 32 columns</p>\n",
       "</div>"
      ],
      "text/plain": [
       "   id item_type  weight_grams  height_cm  width_cm  depth_cm primary_material  \\\n",
       "0   1    amulet          7.00       4.00      2.00      1.00           bronze   \n",
       "1   2      ring          3.00       1.50      2.60      0.40           copper   \n",
       "2   3      ring          3.05       1.50      2.30      0.80            brass   \n",
       "3   4     crown        507.36      15.81      4.62      2.01           silver   \n",
       "4   5      ring          3.40       1.50      4.00      1.50         platinum   \n",
       "\n",
       "  secondary_material gem_type  gem_count  ... restoration_status  \\\n",
       "0            leather  emerald          3  ...            cleaned   \n",
       "1               none     ruby          5  ...      reconstructed   \n",
       "2               bone  diamond          3  ...            cleaned   \n",
       "3              cloth     ruby          4  ...            cleaned   \n",
       "4               bone     ruby          1  ...           restored   \n",
       "\n",
       "  authentication_status monetary_value_gold historical_significance  \\\n",
       "0              probable                5.26                   major   \n",
       "1          questionable                7.00                   minor   \n",
       "2               replica                8.62  military+commemorative   \n",
       "3              verified             6323.32                   royal   \n",
       "4              probable               12.10               legendary   \n",
       "\n",
       "   cursed_status  shine_factor damage_resistance set_piece  \\\n",
       "0              0          0.61              0.79         0   \n",
       "1              0          0.71              0.51         1   \n",
       "2              0          0.89              0.84         0   \n",
       "3              0          0.53              0.82         0   \n",
       "4              0          0.29              0.30         0   \n",
       "\n",
       "                                         description  preservation_score  \n",
       "0  Forged in the shadowy workshops of a legendary...           98.961998  \n",
       "1  Forged in the crucible of ancient warfare, thi...            8.524093  \n",
       "2  A masterfully crafted military ring emerges fr...          100.000000  \n",
       "3  Forged in the heart of an ancient palace, this...           97.696450  \n",
       "4  Emerging from the depths of an ancient cave, t...           87.634386  \n",
       "\n",
       "[5 rows x 32 columns]"
      ]
     },
     "execution_count": 3,
     "metadata": {},
     "output_type": "execute_result"
    }
   ],
   "source": [
    "df = pd.read_csv(\"../data/train.csv\")  # go one level up from /research\n",
    "df.head()"
   ]
  },
  {
   "cell_type": "code",
   "execution_count": 4,
   "id": "ea561671",
   "metadata": {},
   "outputs": [
    {
     "name": "stdout",
     "output_type": "stream",
     "text": [
      "<class 'pandas.core.frame.DataFrame'>\n",
      "RangeIndex: 8000 entries, 0 to 7999\n",
      "Data columns (total 32 columns):\n",
      " #   Column                   Non-Null Count  Dtype  \n",
      "---  ------                   --------------  -----  \n",
      " 0   id                       8000 non-null   int64  \n",
      " 1   item_type                8000 non-null   object \n",
      " 2   weight_grams             8000 non-null   float64\n",
      " 3   height_cm                8000 non-null   float64\n",
      " 4   width_cm                 8000 non-null   float64\n",
      " 5   depth_cm                 8000 non-null   float64\n",
      " 6   primary_material         8000 non-null   object \n",
      " 7   secondary_material       8000 non-null   object \n",
      " 8   gem_type                 7194 non-null   object \n",
      " 9   gem_count                8000 non-null   int64  \n",
      " 10  primary_color            7208 non-null   object \n",
      " 11  surface_texture          8000 non-null   object \n",
      " 12  rarity_level             8000 non-null   object \n",
      " 13  origin_culture           7214 non-null   object \n",
      " 14  creation_year            8000 non-null   float64\n",
      " 15  has_inscription          8000 non-null   int64  \n",
      " 16  inscription_script       7520 non-null   object \n",
      " 17  pattern_type             7887 non-null   object \n",
      " 18  craftsmanship_level      7190 non-null   object \n",
      " 19  magic_enchanted          8000 non-null   int64  \n",
      " 20  environment_type         7209 non-null   object \n",
      " 21  oxidation_level          8000 non-null   object \n",
      " 22  restoration_status       8000 non-null   object \n",
      " 23  authentication_status    8000 non-null   object \n",
      " 24  monetary_value_gold      8000 non-null   float64\n",
      " 25  historical_significance  7990 non-null   object \n",
      " 26  cursed_status            8000 non-null   int64  \n",
      " 27  shine_factor             7214 non-null   float64\n",
      " 28  damage_resistance        8000 non-null   float64\n",
      " 29  set_piece                8000 non-null   int64  \n",
      " 30  description              8000 non-null   object \n",
      " 31  preservation_score       8000 non-null   float64\n",
      "dtypes: float64(9), int64(6), object(17)\n",
      "memory usage: 2.0+ MB\n"
     ]
    }
   ],
   "source": [
    "df.info()"
   ]
  },
  {
   "cell_type": "code",
   "execution_count": 5,
   "id": "89db416e",
   "metadata": {},
   "outputs": [
    {
     "data": {
      "text/plain": [
       "id                         8000\n",
       "item_type                     8\n",
       "weight_grams               2360\n",
       "height_cm                   751\n",
       "width_cm                    772\n",
       "depth_cm                    653\n",
       "primary_material             45\n",
       "secondary_material           51\n",
       "gem_type                     14\n",
       "gem_count                    13\n",
       "primary_color               220\n",
       "surface_texture             163\n",
       "rarity_level                  7\n",
       "origin_culture               90\n",
       "creation_year              2797\n",
       "has_inscription               2\n",
       "inscription_script           92\n",
       "pattern_type                112\n",
       "craftsmanship_level          30\n",
       "magic_enchanted               2\n",
       "environment_type            121\n",
       "oxidation_level              10\n",
       "restoration_status           32\n",
       "authentication_status        31\n",
       "monetary_value_gold        2943\n",
       "historical_significance      89\n",
       "cursed_status                 2\n",
       "shine_factor                180\n",
       "damage_resistance           162\n",
       "set_piece                     2\n",
       "description                8000\n",
       "preservation_score         6361\n",
       "dtype: int64"
      ]
     },
     "execution_count": 5,
     "metadata": {},
     "output_type": "execute_result"
    }
   ],
   "source": [
    "df.nunique()"
   ]
  },
  {
   "cell_type": "code",
   "execution_count": 6,
   "id": "04089a7d",
   "metadata": {},
   "outputs": [
    {
     "data": {
      "text/plain": [
       "id                           0\n",
       "item_type                    0\n",
       "weight_grams                 0\n",
       "height_cm                    0\n",
       "width_cm                     0\n",
       "depth_cm                     0\n",
       "primary_material             0\n",
       "secondary_material           0\n",
       "gem_type                   806\n",
       "gem_count                    0\n",
       "primary_color              792\n",
       "surface_texture              0\n",
       "rarity_level                 0\n",
       "origin_culture             786\n",
       "creation_year                0\n",
       "has_inscription              0\n",
       "inscription_script         480\n",
       "pattern_type               113\n",
       "craftsmanship_level        810\n",
       "magic_enchanted              0\n",
       "environment_type           791\n",
       "oxidation_level              0\n",
       "restoration_status           0\n",
       "authentication_status        0\n",
       "monetary_value_gold          0\n",
       "historical_significance     10\n",
       "cursed_status                0\n",
       "shine_factor               786\n",
       "damage_resistance            0\n",
       "set_piece                    0\n",
       "description                  0\n",
       "preservation_score           0\n",
       "dtype: int64"
      ]
     },
     "execution_count": 6,
     "metadata": {},
     "output_type": "execute_result"
    }
   ],
   "source": [
    "df.isnull().sum()"
   ]
  },
  {
   "cell_type": "code",
   "execution_count": 7,
   "id": "dc08c0ba",
   "metadata": {},
   "outputs": [
    {
     "data": {
      "image/png": "[encoded data removed]",
      "text/plain": [
       "<Figure size 1200x600 with 1 Axes>"
      ]
     },
     "metadata": {},
     "output_type": "display_data"
    }
   ],
   "source": [
    "import seaborn as sns\n",
    "import matplotlib.pyplot as plt\n",
    "\n",
    "plt.figure(figsize=(12,6))\n",
    "sns.heatmap(df.isnull(), cbar=False, yticklabels=False)\n",
    "plt.title(\"Missing Value Heatmap\")\n",
    "plt.show()\n"
   ]
  },
  {
   "cell_type": "code",
   "execution_count": 8,
   "id": "fdd29ab3",
   "metadata": {},
   "outputs": [
    {
     "data": {
      "image/png": "[encoded data removed]",
      "text/plain": [
       "<Figure size 640x480 with 1 Axes>"
      ]
     },
     "metadata": {},
     "output_type": "display_data"
    }
   ],
   "source": [
    "df[\"preservation_score\"].hist(bins=30)\n",
    "plt.title(\"Preservation Score Distribution\")\n",
    "plt.show()\n"
   ]
  },
  {
   "cell_type": "code",
   "execution_count": 9,
   "id": "c3fc71ad",
   "metadata": {},
   "outputs": [
    {
     "data": {
      "image/png": "[encoded data removed]",
      "text/plain": [
       "<Figure size 640x480 with 1 Axes>"
      ]
     },
     "metadata": {},
     "output_type": "display_data"
    }
   ],
   "source": [
    "df[\"desc_length\"] = df[\"description\"].apply(lambda x: len(str(x).split()))\n",
    "df[\"desc_length\"].hist(bins=50)\n",
    "plt.title(\"Description Length Distribution\")\n",
    "plt.show()"
   ]
  },
  {
   "cell_type": "code",
   "execution_count": 10,
   "id": "b463abc1",
   "metadata": {},
   "outputs": [
    {
     "data": {
      "text/plain": [
       "craftsmanship_level        10.1250\n",
       "gem_type                   10.0750\n",
       "primary_color               9.9000\n",
       "environment_type            9.8875\n",
       "shine_factor                9.8250\n",
       "origin_culture              9.8250\n",
       "inscription_script          6.0000\n",
       "pattern_type                1.4125\n",
       "historical_significance     0.1250\n",
       "cursed_status               0.0000\n",
       "damage_resistance           0.0000\n",
       "magic_enchanted             0.0000\n",
       "set_piece                   0.0000\n",
       "monetary_value_gold         0.0000\n",
       "authentication_status       0.0000\n",
       "description                 0.0000\n",
       "restoration_status          0.0000\n",
       "oxidation_level             0.0000\n",
       "preservation_score          0.0000\n",
       "id                          0.0000\n",
       "item_type                   0.0000\n",
       "has_inscription             0.0000\n",
       "creation_year               0.0000\n",
       "rarity_level                0.0000\n",
       "surface_texture             0.0000\n",
       "gem_count                   0.0000\n",
       "secondary_material          0.0000\n",
       "primary_material            0.0000\n",
       "depth_cm                    0.0000\n",
       "width_cm                    0.0000\n",
       "height_cm                   0.0000\n",
       "weight_grams                0.0000\n",
       "desc_length                 0.0000\n",
       "dtype: float64"
      ]
     },
     "execution_count": 10,
     "metadata": {},
     "output_type": "execute_result"
    }
   ],
   "source": [
    "(df.isnull().sum() / len(df) * 100).sort_values(ascending=False)\n"
   ]
  },
  {
   "cell_type": "code",
   "execution_count": 11,
   "id": "a41c9238",
   "metadata": {},
   "outputs": [],
   "source": [
    "df['craftsmanship_level']=df['craftsmanship_level'].fillna('Not Mentioned')\n",
    "df['gem_type']=df['gem_type'].fillna('Not Mentioned')\n",
    "df['primary_color']=df['primary_color'].fillna('Not Mentioned')\n",
    "df['environment_type']=df['environment_type'].fillna('Not Mentioned')\n",
    "df['origin_culture']=df['origin_culture'].fillna('Not Mentioned')\n",
    "df['shine_factor']=df['shine_factor'].fillna(df['shine_factor'].mean())\n",
    "df['inscription_script']=df['inscription_script'].fillna('Not Mentioned')\n",
    "df['pattern_type']=df['pattern_type'].fillna('Not Mentioned')\n",
    "df['historical_significance']=df['historical_significance'].fillna('Not Mentioned')"
   ]
  },
  {
   "cell_type": "code",
   "execution_count": 12,
   "id": "b03272c1",
   "metadata": {},
   "outputs": [
    {
     "data": {
      "text/plain": [
       "id                         0.0\n",
       "pattern_type               0.0\n",
       "preservation_score         0.0\n",
       "description                0.0\n",
       "set_piece                  0.0\n",
       "damage_resistance          0.0\n",
       "shine_factor               0.0\n",
       "cursed_status              0.0\n",
       "historical_significance    0.0\n",
       "monetary_value_gold        0.0\n",
       "authentication_status      0.0\n",
       "restoration_status         0.0\n",
       "oxidation_level            0.0\n",
       "environment_type           0.0\n",
       "magic_enchanted            0.0\n",
       "craftsmanship_level        0.0\n",
       "inscription_script         0.0\n",
       "item_type                  0.0\n",
       "has_inscription            0.0\n",
       "creation_year              0.0\n",
       "origin_culture             0.0\n",
       "rarity_level               0.0\n",
       "surface_texture            0.0\n",
       "primary_color              0.0\n",
       "gem_count                  0.0\n",
       "gem_type                   0.0\n",
       "secondary_material         0.0\n",
       "primary_material           0.0\n",
       "depth_cm                   0.0\n",
       "width_cm                   0.0\n",
       "height_cm                  0.0\n",
       "weight_grams               0.0\n",
       "desc_length                0.0\n",
       "dtype: float64"
      ]
     },
     "execution_count": 12,
     "metadata": {},
     "output_type": "execute_result"
    }
   ],
   "source": [
    "(df.isnull().sum() / len(df) * 100).sort_values(ascending=False)\n"
   ]
  },
  {
   "cell_type": "code",
   "execution_count": 13,
   "id": "05e18ca4",
   "metadata": {},
   "outputs": [
    {
     "data": {
      "image/png": "[encoded data removed]",
      "text/plain": [
       "<Figure size 1000x500 with 1 Axes>"
      ]
     },
     "metadata": {},
     "output_type": "display_data"
    }
   ],
   "source": [
    "import matplotlib.pyplot as plt\n",
    "import seaborn as sns\n",
    "\n",
    "plt.figure(figsize=(10,5))\n",
    "sns.histplot(df[\"preservation_score\"], bins=40, kde=True)\n",
    "plt.title(\"Distribution of Preservation Score\")\n",
    "plt.xlabel(\"Preservation Score\")\n",
    "plt.ylabel(\"Frequency\")\n",
    "plt.show()\n"
   ]
  },
  {
   "cell_type": "code",
   "execution_count": 14,
   "id": "1b626674",
   "metadata": {},
   "outputs": [
    {
     "data": {
      "image/png": "[encoded data removed]",
      "text/plain": [
       "<Figure size 1200x400 with 1 Axes>"
      ]
     },
     "metadata": {},
     "output_type": "display_data"
    }
   ],
   "source": [
    "plt.figure(figsize=(12, 4))\n",
    "sns.boxplot(x=df[\"preservation_score\"])\n",
    "plt.title(\"Boxplot of Preservation Score\")\n",
    "plt.show()\n"
   ]
  },
  {
   "cell_type": "code",
   "execution_count": 15,
   "id": "ff5ff63a",
   "metadata": {},
   "outputs": [
    {
     "name": "stdout",
     "output_type": "stream",
     "text": [
      "\n",
      "--- item_type ---\n",
      "Unique values: 8\n",
      "\n",
      "--- primary_material ---\n",
      "Unique values: 45\n",
      "\n",
      "--- secondary_material ---\n",
      "Unique values: 51\n",
      "\n",
      "--- gem_type ---\n",
      "Unique values: 15\n",
      "\n",
      "--- primary_color ---\n",
      "Unique values: 221\n",
      "\n",
      "--- surface_texture ---\n",
      "Unique values: 163\n",
      "\n",
      "--- rarity_level ---\n",
      "Unique values: 7\n",
      "\n",
      "--- origin_culture ---\n",
      "Unique values: 91\n",
      "\n",
      "--- inscription_script ---\n",
      "Unique values: 93\n",
      "\n",
      "--- pattern_type ---\n",
      "Unique values: 113\n",
      "\n",
      "--- craftsmanship_level ---\n",
      "Unique values: 31\n",
      "\n",
      "--- environment_type ---\n",
      "Unique values: 122\n",
      "\n",
      "--- oxidation_level ---\n",
      "Unique values: 10\n",
      "\n",
      "--- restoration_status ---\n",
      "Unique values: 32\n",
      "\n",
      "--- authentication_status ---\n",
      "Unique values: 31\n",
      "\n",
      "--- historical_significance ---\n",
      "Unique values: 90\n",
      "\n",
      "--- description ---\n",
      "Unique values: 8000\n"
     ]
    }
   ],
   "source": [
    "cat_cols = df.select_dtypes(include=\"object\").columns.tolist()\n",
    "\n",
    "for col in cat_cols:\n",
    "    print(f\"\\n--- {col} ---\")\n",
    "    print(f\"Unique values: {df[col].nunique()}\")\n",
    "\n"
   ]
  },
  {
   "cell_type": "code",
   "execution_count": 16,
   "id": "698d3258",
   "metadata": {},
   "outputs": [
    {
     "name": "stdout",
     "output_type": "stream",
     "text": [
      "\n",
      "==== primary_color unique values ====\n",
      "['Not Mentioned', 'antique gold', 'antique white', 'azure blue', 'black', 'black+bronze', 'black+dark blue', 'black+gold', 'black+metallic', 'black+metallic silver', 'black+purple', 'black+silver', 'blue', 'blue+copper', 'blue+copper-green', 'blue+gold', 'blue+green', 'blue+rust', 'blue+silver', 'blue+steel-gray', 'blue+teal', 'blue-gold', 'blue-gray', 'blue-green', 'blue-green patina', 'blue-silver', 'blue-steel', 'brass-gold', 'brass-white', 'brass_green', 'bronze', 'bronze+blue', 'bronze+brown', 'bronze+gold', 'bronze+red', 'bronze+white', 'bronze-black', 'bronze-blue', 'bronze-bronze', 'bronze-brown', 'bronze-gold', 'bronze-green', 'bronze-purple', 'bronze-red', 'bronze-silver', 'bronze-white', 'bronze_gold', 'bronze_metallic', 'burnished gold', 'burnished gold+red', 'copper-gold', 'copper-red', 'crimson', 'crimson red', 'crimson+gold', 'crimson+silver', 'dark bronze', 'dark copper', 'dark_bronze', 'deep black', 'deep blue', 'deep blue-green patina', 'deep bronze', 'deep bronze+black', 'deep bronze+blue sapphire accents', 'deep bronze+red highlights', 'deep bronze+ruby red', 'deep bronze-red', 'deep burgundy', 'deep copper-red', 'deep crimson', 'deep crimson red', 'deep green', 'deep purple', 'deep red', 'deep red+steel gray', 'deep rust-red', 'deep_crimson', 'deep_green', 'deep_purple', 'deep_red', 'emerald green', 'emerald-green', 'emerald_green', 'gold', 'gold+black', 'gold+blue', 'gold+bronze', 'gold+green', 'gold+platinum', 'gold+purple', 'gold+red', 'gold+silver', 'gold+white', 'gold-black', 'gold-blue', 'gold-bronze', 'gold-green', 'gold-purple', 'gold-red', 'gold-silver', 'gold-tinted silver', 'gold-white', 'golden', 'golden brass', 'golden bronze', 'golden green', 'golden yellow', 'golden+amber', 'golden+black', 'golden+blue', 'golden+bronze', 'golden+green', 'golden+red', 'golden+white', 'golden-amber', 'golden-black', 'golden-blue', 'golden-bronze', 'golden-brown', 'golden-copper', 'golden-red', 'golden-silver', 'golden-white', 'golden-yellow', 'golden_black', 'green', 'green+blue', 'green+bronze', 'green+gold', 'green+metallic', 'green+rust', 'green+silver', 'green+teal', 'green-blue', 'green-bronze', 'green-brown', 'green-gold', 'green-patina', 'green-silver', 'green-tinted silver', 'green-verdigris', 'ivory+gold', 'ivory+white', 'ivory-gold', 'ivory-white', 'lavender', 'lavender+gold', 'lavender+silver', 'lavender-blue', 'lavender-gold', 'lavender-silver', 'lavender-white', 'midnight black', 'midnight blue', 'obsidian black', 'platinum+blue', 'purple', 'purple+bronze', 'purple+gold', 'purple+metallic', 'purple+silver', 'purple-bronze', 'purple-gold', 'red', 'red+copper', 'red+gold', 'red+steel-gray', 'red-copper', 'royal blue', 'royal blue+gold', 'royal purple', 'royal_blue', 'rust-red', 'rusty red', 'sapphire blue', 'sea green', 'seafoam green', 'silver', 'silver+blue', 'silver+gold', 'silver+gray', 'silver+red', 'silver+white', 'silver-black', 'silver-blue', 'silver-brass', 'silver-bronze', 'silver-copper', 'silver-gold', 'silver-gray', 'silver-green', 'silver-purple', 'silver-red', 'silver-white', 'silver_white', 'tarnished bronze', 'tarnished silver', 'teal', 'teal-green', 'verdigris green', 'violet-blue', 'white', 'white+blue', 'white+brass', 'white+bronze', 'white+copper', 'white+copper-green', 'white+copper-patina', 'white+gold', 'white+gray', 'white+green', 'white+ivory', 'white+lavender', 'white+pale purple', 'white+patina green', 'white+rust', 'white+silver', 'white-bronze', 'white-gold', 'white-silver']\n",
      "\n",
      "==== surface_texture unique values ====\n",
      "['corroded', 'corroded+engraved', 'corroded+etched', 'corroded+intricate', 'corroded+ornate', 'corroded+patinated', 'corroded+pitted', 'corroded+polished', 'corroded+rough', 'corroded+textured', 'corroded+weathered', 'corroded_intricate', 'corroded_patina', 'delicately etched', 'delicately scratched', 'encrusted', 'encrusted with intricate bone inlays', 'encrusted with intricate details', 'encrusted with intricate patterns', 'encrusted with rough patches', 'encrusted with tribal patterns', 'encrusted+corroded', 'encrusted+geometric', 'encrusted+ornate', 'encrusted+polished', 'encrusted+rough', 'encrusted+weathered', 'engraved', 'etched', 'etched+engraved', 'etched+hammered', 'etched+intricate', 'etched+ornate', 'etched+patinated', 'etched+polished', 'etched+weathered', 'etched_geometric', 'heavily corroded', 'heavily encrusted', 'heavily scratched', 'high-gloss polished', 'high-polish', 'highly polished', 'intricately corroded', 'intricately encrusted', 'intricately etched', 'intricately pitted', 'intricately rough', 'intricately scratched', 'intricately_etched', 'intricately_scratched', 'lightly scratched', 'ornate', 'ornate+detailed', 'ornate+engraved', 'ornate+geometric', 'ornate+intricate', 'ornate+polished', 'ornately carved', 'ornately encrusted', 'partially corroded', 'partially corroded+polished', 'partially encrusted', 'partially polished', 'partially rough+polished', 'partially_corroded', 'partially_polished', 'patinated+scratched', 'pitted', 'pitted with polished accents', 'pitted+aged', 'pitted+corroded', 'pitted+engraved', 'pitted+etched', 'pitted+intricate', 'pitted+metallic', 'pitted+ornate', 'pitted+oxidized', 'pitted+partially polished', 'pitted+patinated', 'pitted+polished', 'pitted+weathered', 'pitted+worn', 'polished', 'polished smooth', 'polished+corroded', 'polished+engraved', 'polished+etched', 'polished+geometric', 'polished+intricate', 'polished+ornate', 'polished+patinated', 'polished+reflective', 'polished+rough', 'polished+scratched', 'polished+slightly weathered', 'polished+slightly_worn', 'polished+weathered', 'polished+worn', 'polished_smooth', 'rough', 'rough with polished accents', 'rough+encrusted', 'rough+engraved', 'rough+etched', 'rough+hammered', 'rough+intricate', 'rough+metallic', 'rough+ornate', 'rough+oxidized', 'rough+patinated', 'rough+pitted', 'rough+polished', 'rough+textured', 'rough+uneven', 'rough+weathered', 'rough-hammered', 'rough-hewn', 'scratched', 'scratched+aged', 'scratched+engraved', 'scratched+etched', 'scratched+ornate', 'scratched+oxidized', 'scratched+patinated', 'scratched+polished', 'scratched+weathered', 'scratched+worn', 'slightly corroded', 'smooth', 'smooth polished', 'smooth with etched patterns', 'smooth with intricate etching', 'smooth with slight patina', 'smooth with subtle etching', 'smooth with subtle hammered details', 'smooth+engraved', 'smooth+etched', 'smooth+intricate', 'smooth+ornate', 'smooth+patinated', 'smooth+polished', 'smooth+slightly oxidized', 'smooth+slightly textured', 'smooth+slightly weathered', 'smooth+slightly worn', 'smooth+slightly_textured', 'smooth+slightly_weathered', 'smooth+weathered', 'smooth+worn', 'smooth_polished', 'weathered', 'weathered patina', 'weathered+corroded', 'weathered+engraved', 'weathered+etched', 'weathered+intricate', 'weathered+oxidized', 'weathered+patinated', 'weathered+pitted', 'weathered+polished', 'weathered+rough', 'weathered_polished']\n",
      "\n",
      "==== origin_culture unique values ====\n",
      "['Byzantine imperial', 'Not Mentioned', 'ancient', 'ancient Egyptian', 'ancient Greek', 'ancient Mediterranean', 'ancient Mesopotamian', 'ancient battlefield', 'ancient battlefield civilization', 'ancient desert', 'ancient desert civilization', 'ancient egyptian', 'ancient greek', 'ancient maritime', 'ancient maritime civilization', 'ancient mediterranean', 'ancient mesopotamian', 'ancient military', 'ancient nomadic', 'ancient nordic', 'ancient oceanic', 'ancient royal', 'ancient runic', 'ancient temple', 'ancient temple civilization', 'ancient tribal', 'ancient warrior', 'ancient+ceremonial', 'ancient+greek', 'ancient+mesopotamian', 'ancient+military', 'ancient+roman', 'ancient+royal', 'ancient_mesopotamian', 'ancient_royal', 'caribbean pirate', 'desert tribal', 'imperial military', 'maritime', 'maritime military', 'maritime pirate', 'maritime religious', 'maritime royal', 'maritime+ancient', 'maritime+military', 'maritime+nordic', 'maritime+pirate', 'maritime+religious', 'maritime+royal', 'mesopotamian', 'military', 'military ceremonial', 'military elite', 'military royal', 'military+ceremonial', 'military+maritime', 'military+religious', 'military+royal', 'military-royal', 'military_ceremonial', 'monastic', 'naval', 'naval military', 'norse', 'pirate', 'pirate+maritime', 'religious', 'religious ceremonial', 'religious royal', 'religious+ceremonial', 'religious+maritime', 'religious+military', 'religious_royal', 'royal', 'royal medieval', 'royal mesopotamian', 'royal military', 'royal+ceremonial', 'royal+military', 'sacred temple', 'tribal', 'tribal ceremonial', 'tribal maritime', 'tribal royal', 'tribal shamanic', 'tribal warrior', 'tribal+ancient', 'tribal+ceremonial', 'tribal+nomadic', 'tribal+royal', 'tribal_royal']\n",
      "\n",
      "==== inscription_script unique values ====\n",
      "['Greek', 'Not Mentioned', 'ancient', 'ancient Greek', 'ancient celestial', 'ancient geometric symbols', 'ancient greek', 'ancient hieroglyphic', 'ancient hieroglyphs', 'ancient liturgical', 'ancient maritime', 'ancient maritime symbols', 'ancient military script', 'ancient military symbols', 'ancient nautical symbols', 'ancient religious symbols', 'ancient royal', 'ancient royal script', 'ancient runic', 'ancient symbolic', 'ancient symbols', 'ancient tribal', 'ancient+celestial', 'ancient+cuneiform', 'ancient+geometric', 'ancient+greek', 'ancient+hieroglyphic', 'ancient+latin', 'ancient+maritime', 'ancient+military', 'ancient+nautical', 'ancient+religious', 'ancient+royal', 'ancient+runic', 'ancient+sacred', 'ancient+symbolic', 'ancient_greek', 'ancient_hebrew', 'ancient_hieroglyphs', 'ancient_royal', 'ancient_runic', 'ancient_symbolic', 'ancient_symbols', 'celestial', 'cuneiform', 'geometric', 'geometric symbols', 'greek', 'heraldic', 'hieroglyphic', 'latin', 'latin+nautical symbols', 'latin+runic hybrid', 'maritime', 'maritime symbols', 'military', 'military cipher', 'military symbols', 'military+symbolic', 'military_insignia', 'nautical', 'nautical hieroglyphic', 'nautical symbols', 'nautical+hieroglyphic', 'nautical+latin', 'nautical+symbolic', 'none', 'pictographic', 'proto-Greek', 'proto-ancient', 'proto-cuneiform', 'proto-greek', 'proto-hieroglyphic', 'proto-latin', 'proto-maritime', 'proto-oceanic symbols', 'proto-runic', 'proto-semitic', 'proto-tribal', 'royal heraldic', 'royal+heraldic', 'runic', 'runic+symbolic', 'symbolic', 'tribal', 'tribal symbols', 'unknown', 'unknown ancient script', 'unknown archaic script', 'unknown hieroglyphic', 'unknown hieroglyphs', 'unknown tribal script', 'unknown tribal symbols']\n",
      "\n",
      "==== pattern_type unique values ====\n",
      "['Not Mentioned', 'abstract', 'abstract geometric', 'abstract maritime', 'abstract nautical', 'abstract+geometric', 'abstract+maritime', 'abstract+nautical', 'abstract+symbolic', 'abstract+tribal', 'abstract_geometric', 'animal', 'animal motif', 'animal motifs', 'animal+geometric', 'animal+maritime', 'animal+mythological', 'animal+nautical', 'animal+ritual', 'animal+serpentine', 'animal_motif', 'animal_totem', 'celestial', 'celestial motif', 'celestial motifs', 'celestial navigation symbols', 'celestial symbols', 'celestial+astronomical', 'celestial+astronomical symbols', 'celestial+geometric', 'celestial+maritime', 'celestial+nautical', 'delicate', 'delicate filigree', 'floral', 'floral geometric', 'floral maritime', 'floral+geometric', 'floral+maritime', 'floral+nautical', 'floral+organic', 'floral+tribal', 'floral_geometric', 'floral_intricate', 'geometric', 'geometric abstract', 'geometric border', 'geometric nautical', 'geometric tribal', 'geometric+abstract', 'geometric+angular', 'geometric+animal', 'geometric+ceremonial', 'geometric+heraldic', 'geometric+intricate', 'geometric+linear', 'geometric+maritime', 'geometric+nautical', 'geometric+organic', 'geometric+ornate', 'geometric+radial', 'geometric+ritual', 'geometric+ritualistic', 'geometric+spiral', 'geometric+symbolic', 'geometric+symmetrical', 'geometric+tribal', 'geometric+wave', 'geometric_bands', 'geometric_floral', 'geometric_sacred', 'geometric_spiral', 'heraldic', 'heraldic animal', 'intricate floral', 'intricate geometric', 'linear', 'marine animal', 'marine animal+geometric', 'marine+animal', 'maritime', 'maritime abstract', 'maritime animal', 'maritime animal+nautical motif', 'maritime knot', 'maritime knots', 'maritime motifs', 'maritime symbols', 'maritime wave', 'maritime+abstract', 'maritime+animal', 'maritime+floral', 'maritime+geometric', 'minimal', 'minimalist', 'nautical', 'nautical abstract', 'nautical animal', 'nautical symbols', 'nautical+animal', 'nautical+floral', 'nautical+geometric', 'nautical+maritime', 'nautical_animal', 'nautical_symbols', 'none', 'organic+floral', 'serpent', 'stylized animal', 'stylized animal motif', 'subtle wave-like etching', 'tribal+geometric', 'zoomorphic']\n",
      "\n",
      "==== environment_type unique values ====\n",
      "['Not Mentioned', 'ancient battlefield', 'ancient battlefield shrine', 'ancient cave', 'ancient cave sanctuary', 'ancient monastery', 'ancient royal cave', 'ancient temple', 'ancient tomb', 'battlefield', 'battlefield archaeological site', 'battlefield ceremonial ground', 'battlefield memorial', 'battlefield palace', 'battlefield ruins', 'battlefield shrine', 'battlefield+ceremonial', 'battlefield+desert', 'battlefield+mountain', 'battlefield+palace', 'battlefield+ritual site', 'battlefield+royal chamber', 'battlefield+royal_chamber', 'battlefield+sacred ground', 'battlefield+temple', 'burial chamber', 'burial tomb', 'cave', 'cave sanctuary', 'cave+mountain', 'cave+mountain temple', 'coastal', 'coastal battlefield', 'coastal cave', 'coastal desert', 'coastal ocean', 'desert', 'desert archaeological site', 'desert coastal', 'desert plateau', 'desert temple', 'desert+arid plateau', 'desert+coastal', 'desert+mountain', 'desert+mountain plateau', 'desert+mountainous', 'desert+rocky', 'maritime museum', 'maritime palace', 'maritime tomb', 'maritime+battlefield', 'mountain cave', 'mountain_cave', 'naval battlefield', 'naval museum', 'ocean', 'ocean coastal', 'ocean floor', 'ocean+coastal', 'ocean+desert', 'ocean+maritime', 'ocean+mountain', 'ocean_shipwreck', 'oceanic', 'oceanic coastal', 'oceanic shipwreck', 'palace', 'palace armory', 'palace ceremonial hall', 'palace ritual chamber', 'palace royal chamber', 'palace sanctuary', 'palace throne room', 'palace treasury', 'palace workshop', 'palace+maritime', 'palace+maritime museum', 'palace+temple', 'palace_throne_room', 'royal battlefield', 'royal palace', 'royal temple', 'royal throne room', 'royal tomb', 'royal+battlefield', 'royal_palace', 'sacred battlefield', 'sacred cave', 'sacred cave sanctuary', 'sacred temple', 'sacred temple chamber', 'sacred tomb', 'sacred_temple', 'sea cave', 'sea+cave', 'sea_cave', \"ship's treasury\", 'shipwreck', 'temple', 'temple ruins', 'temple sanctuary', 'temple vault', 'temple+battlefield', 'temple+ceremonial', 'temple+maritime', 'temple+ritual space', 'temple+royal chamber', 'temple_sanctuary', 'tomb', 'tomb+archaeological site', 'tomb+battlefield', 'tomb+maritime', 'tomb+sacred chamber', 'tomb+shipwreck', 'tomb+temple', 'tomb+underground', 'underground cave', 'underground temple', 'underground temple cave', 'underwater archaeological site', 'underwater ocean', 'underwater tomb']\n",
      "\n",
      "==== historical_significance unique values ====\n",
      "['Not Mentioned', 'archaeological', 'archaeological importance', 'archaeological interest', 'archaeological research value', 'archaeological treasure', 'ceremonial', 'ceremonial leadership', 'ceremonial royal artifact', 'cultural', 'exceptional', 'extraordinary', 'high', 'legendary', 'legendary artifact', 'legendary ceremonial', 'legendary imperial artifact', 'legendary maritime artifact', 'legendary pirate artifact', 'legendary religious artifact', 'legendary ritual artifact', 'legendary ritual vessel', 'legendary royal artifact', 'legendary+sacred', 'low', 'major', 'major archaeological discovery', 'major archaeological find', 'major archaeological significance', 'major ceremonial artifact', 'major maritime historical importance', 'major religious artifact', 'major+legendary', 'maritime', 'maritime artifact', 'maritime exploration', 'maritime folklore', 'maritime heritage', 'maritime leadership', 'maritime legend', 'maritime navigation', 'maritime religious artifact', 'maritime ritual', 'maritime ritual artifact', 'maritime royal', 'maritime royal artifact', 'maritime trade', 'maritime trade route', 'maritime trade routes', 'maritime warfare', 'maritime_legend', 'military artifact', 'military ceremonial', 'military ceremonial artifact', 'military commemorative', 'military leadership', 'military ritual', 'military ritual artifact', 'military+ceremonial', 'military+commemorative', 'minimal', 'minor', 'minor archaeological importance', 'minor archaeological interest', 'minor maritime relic', 'moderate', 'moderate+high', 'mystical', 'none', 'notable', 'potential ritual importance', 'rare military artifact', 'regional', 'regional importance', 'ritual', 'ritual artifact', 'ritual leadership', 'ritual+ceremonial', 'ritualistic', 'royal', 'royal artifact', 'royal battle artifact', 'royal ceremonial', 'royal ceremonial artifact', 'royal lineage', 'royal military artifact', 'royal+ceremonial', 'significant', 'substantial', 'supreme']\n"
     ]
    }
   ],
   "source": [
    "high_card_cols = [\n",
    "    \"primary_color\",\n",
    "    \"surface_texture\",\n",
    "    \"origin_culture\",\n",
    "    \"inscription_script\",\n",
    "    \"pattern_type\",\n",
    "    \"environment_type\",\n",
    "    \"historical_significance\"\n",
    "]\n",
    "\n",
    "for col in high_card_cols:\n",
    "    print(f\"\\n==== {col} unique values ====\")\n",
    "    print(sorted(df[col].unique()))\n"
   ]
  },
  {
   "cell_type": "code",
   "execution_count": 17,
   "id": "d7ebe207",
   "metadata": {},
   "outputs": [
    {
     "name": "stdout",
     "output_type": "stream",
     "text": [
      "['purple' 'black' 'Not Mentioned' 'blue' 'red' 'white' 'silver'\n",
      " 'gold/bronze' 'green' 'copper']\n"
     ]
    }
   ],
   "source": [
    "def group_primary_color(value):\n",
    "    if pd.isna(value) or value == \"Not Mentioned\":\n",
    "        return \"Not Mentioned\"\n",
    "    \n",
    "    v = value.lower()\n",
    "    if \"black\" in v:\n",
    "        return \"black\"\n",
    "    elif \"white\" in v or \"ivory\" in v:\n",
    "        return \"white\"\n",
    "    elif \"blue\" in v:\n",
    "        return \"blue\"\n",
    "    elif \"red\" in v or \"crimson\" in v or \"rust\" in v or \"burgundy\" in v:\n",
    "        return \"red\"\n",
    "    elif \"green\" in v or \"teal\" in v or \"verdigris\" in v or \"emerald\" in v:\n",
    "        return \"green\"\n",
    "    elif \"gold\" in v or \"brass\" in v or \"bronze\" in v or \"burnished\" in v:\n",
    "        return \"gold/bronze\"\n",
    "    elif \"silver\" in v or \"platinum\" in v:\n",
    "        return \"silver\"\n",
    "    elif \"copper\" in v:\n",
    "        return \"copper\"\n",
    "    elif \"purple\" in v or \"lavender\" in v or \"violet\" in v:\n",
    "        return \"purple\"\n",
    "    elif \"yellow\" in v or \"amber\" in v:\n",
    "        return \"yellow\"\n",
    "    else:\n",
    "        return \"other\"\n",
    "\n",
    "df[\"primary_color\"] = df[\"primary_color\"].apply(group_primary_color)\n",
    "print(df['primary_color'].unique())"
   ]
  },
  {
   "cell_type": "code",
   "execution_count": 18,
   "id": "515d6407",
   "metadata": {},
   "outputs": [
    {
     "name": "stdout",
     "output_type": "stream",
     "text": [
      "['rough' 'weathered' 'ornate/intricate' 'polished' 'engraved/etched']\n"
     ]
    }
   ],
   "source": [
    "def group_surface_texture(value):\n",
    "    if pd.isna(value):\n",
    "        return \"Not Mentioned\"\n",
    "\n",
    "    v = value.lower()\n",
    "\n",
    "    if \"polished\" in v or \"smooth\" in v or \"high-gloss\" in v or \"high-polish\" in v:\n",
    "        return \"polished\"\n",
    "    elif any(x in v for x in [\"rough\", \"pitted\", \"corroded\", \"worn\", \"encrusted\", \"heavily corroded\", \"heavily encrusted\"]):\n",
    "        return \"rough\"\n",
    "    elif any(x in v for x in [\"engraved\", \"etched\", \"scratched\", \"incised\"]):\n",
    "        return \"engraved/etched\"\n",
    "    elif any(x in v for x in [\"ornate\", \"intricate\", \"delicate\", \"filigree\"]):\n",
    "        return \"ornate/intricate\"\n",
    "    elif any(x in v for x in [\"weathered\", \"patinated\", \"aged\", \"tarnished\"]):\n",
    "        return \"weathered\"\n",
    "    elif \"+\" in v or \"-\" in v or \"_\" in v:\n",
    "        return \"mixed\"\n",
    "    else:\n",
    "        return \"other\"\n",
    "\n",
    "df[\"surface_texture\"] = df[\"surface_texture\"].apply(group_surface_texture)\n",
    "print(df['surface_texture'].unique())"
   ]
  },
  {
   "cell_type": "code",
   "execution_count": 19,
   "id": "94ce9ad4",
   "metadata": {},
   "outputs": [
    {
     "name": "stdout",
     "output_type": "stream",
     "text": [
      "['maritime/pirate' 'Not Mentioned' 'military/imperial' 'ancient' 'royal'\n",
      " 'tribal' 'mixed' 'religious/monastic' 'other' 'greek/roman/byzantine']\n"
     ]
    }
   ],
   "source": [
    "def group_origin_culture(value):\n",
    "    if pd.isna(value) or value.lower() == \"not mentioned\":\n",
    "        return \"Not Mentioned\"\n",
    "    \n",
    "    v = value.lower()\n",
    "\n",
    "    if \"+\" in v or \"_\" in v:\n",
    "        return \"mixed\"\n",
    "    elif any(x in v for x in [\"ancient\", \"proto\"]):\n",
    "        return \"ancient\"\n",
    "    elif any(x in v for x in [\"greek\", \"roman\", \"byzantine\"]):\n",
    "        return \"greek/roman/byzantine\"\n",
    "    elif \"egyptian\" in v:\n",
    "        return \"egyptian\"\n",
    "    elif any(x in v for x in [\"maritime\", \"pirate\", \"ocean\", \"naval\"]):\n",
    "        return \"maritime/pirate\"\n",
    "    elif any(x in v for x in [\"military\", \"imperial\"]):\n",
    "        return \"military/imperial\"\n",
    "    elif any(x in v for x in [\"tribal\", \"nomadic\", \"shamanic\"]):\n",
    "        return \"tribal\"\n",
    "    elif any(x in v for x in [\"religious\", \"monastic\", \"sacred\", \"temple\"]):\n",
    "        return \"religious/monastic\"\n",
    "    elif \"royal\" in v:\n",
    "        return \"royal\"\n",
    "    elif any(x in v for x in [\"battlefield\", \"warrior\"]):\n",
    "        return \"battlefield\"\n",
    "    else:\n",
    "        return \"other\"\n",
    "    \n",
    "df[\"origin_culture\"] = df[\"origin_culture\"].apply(group_origin_culture)\n",
    "print(df['origin_culture'].unique())"
   ]
  },
  {
   "cell_type": "code",
   "execution_count": 20,
   "id": "e711daca",
   "metadata": {},
   "outputs": [
    {
     "name": "stdout",
     "output_type": "stream",
     "text": [
      "['Not Mentioned' 'cuneiform' 'military' 'other' 'runic' 'latin'\n",
      " 'hieroglyphic' 'ancient' 'nautical/maritime' 'symbolic' 'unknown'\n",
      " 'tribal' 'greek']\n"
     ]
    }
   ],
   "source": [
    "def group_inscription_script(value):\n",
    "    if pd.isna(value) or value.lower() == \"not mentioned\":\n",
    "        return \"Not Mentioned\"\n",
    "    \n",
    "    v = value.lower()\n",
    "    \n",
    "    if \"unknown\" in v:\n",
    "        return \"unknown\"\n",
    "    elif any(x in v for x in [\"ancient\", \"proto\"]):\n",
    "        return \"ancient\"\n",
    "    elif \"greek\" in v:\n",
    "        return \"greek\"\n",
    "    elif \"latin\" in v:\n",
    "        return \"latin\"\n",
    "    elif \"runic\" in v:\n",
    "        return \"runic\"\n",
    "    elif \"cuneiform\" in v:\n",
    "        return \"cuneiform\"\n",
    "    elif \"hieroglyph\" in v:\n",
    "        return \"hieroglyphic\"\n",
    "    elif any(x in v for x in [\"nautical\", \"maritime\"]):\n",
    "        return \"nautical/maritime\"\n",
    "    elif \"military\" in v:\n",
    "        return \"military\"\n",
    "    elif any(x in v for x in [\"symbolic\", \"pictographic\", \"geometric\", \"heraldic\"]):\n",
    "        return \"symbolic\"\n",
    "    elif \"tribal\" in v:\n",
    "        return \"tribal\"\n",
    "    else:\n",
    "        return \"other\"\n",
    "df[\"inscription_script\"] = df[\"inscription_script\"].apply(group_inscription_script)\n",
    "print(df['inscription_script'].unique())"
   ]
  },
  {
   "cell_type": "code",
   "execution_count": 21,
   "id": "bfbbcdcc",
   "metadata": {},
   "outputs": [
    {
     "name": "stdout",
     "output_type": "stream",
     "text": [
      "['geometric' 'animal' 'floral' 'other' 'celestial' 'abstract' 'maritime'\n",
      " 'tribal' 'Not Mentioned' 'symbolic' 'minimal']\n"
     ]
    }
   ],
   "source": [
    "def group_pattern_type(value):\n",
    "    if pd.isna(value) or value.lower() == \"not mentioned\":\n",
    "        return \"Not Mentioned\"\n",
    "    \n",
    "    v = value.lower()\n",
    "    \n",
    "    if \"geometric\" in v:\n",
    "        return \"geometric\"\n",
    "    elif \"floral\" in v:\n",
    "        return \"floral\"\n",
    "    elif any(x in v for x in [\"animal\", \"serpent\", \"zoomorphic\", \"stylized\"]):\n",
    "        return \"animal\"\n",
    "    elif any(x in v for x in [\"celestial\", \"astronomical\"]):\n",
    "        return \"celestial\"\n",
    "    elif any(x in v for x in [\"maritime\", \"nautical\", \"marine\"]):\n",
    "        return \"maritime\"\n",
    "    elif \"tribal\" in v:\n",
    "        return \"tribal\"\n",
    "    elif \"abstract\" in v:\n",
    "        return \"abstract\"\n",
    "    elif \"minimal\" in v:\n",
    "        return \"minimal\"\n",
    "    elif any(x in v for x in [\"symbolic\", \"ritual\", \"heraldic\"]):\n",
    "        return \"symbolic\"\n",
    "    else:\n",
    "        return \"other\"\n",
    "\n",
    "df[\"pattern_type\"] = df[\"pattern_type\"].apply(group_pattern_type)\n",
    "print(df['pattern_type'].unique())"
   ]
  },
  {
   "cell_type": "code",
   "execution_count": 22,
   "id": "2829bd90",
   "metadata": {},
   "outputs": [
    {
     "name": "stdout",
     "output_type": "stream",
     "text": [
      "['palace' 'battlefield' 'desert' 'Not Mentioned' 'other' 'cave' 'temple'\n",
      " 'tomb' 'coastal' 'shipwreck' 'mountain']\n"
     ]
    }
   ],
   "source": [
    "def group_environment_type(value):\n",
    "    if pd.isna(value) or value.lower() == \"not mentioned\":\n",
    "        return \"Not Mentioned\"\n",
    "    \n",
    "    v = value.lower()\n",
    "    \n",
    "    if \"temple\" in v or \"sanctuary\" in v:\n",
    "        return \"temple\"\n",
    "    elif \"tomb\" in v or \"burial\" in v:\n",
    "        return \"tomb\"\n",
    "    elif \"battlefield\" in v or \"war\" in v or \"military\" in v:\n",
    "        return \"battlefield\"\n",
    "    elif \"palace\" in v or \"royal chamber\" in v or \"throne room\" in v:\n",
    "        return \"palace\"\n",
    "    elif \"cave\" in v or \"underground\" in v:\n",
    "        return \"cave\"\n",
    "    elif \"shipwreck\" in v or \"ocean floor\" in v or \"maritime museum\" in v:\n",
    "        return \"shipwreck\"\n",
    "    elif \"coastal\" in v or \"oceanic\" in v or \"sea\" in v:\n",
    "        return \"coastal\"\n",
    "    elif \"desert\" in v:\n",
    "        return \"desert\"\n",
    "    elif \"mountain\" in v or \"plateau\" in v:\n",
    "        return \"mountain\"\n",
    "    elif \"sacred\" in v:\n",
    "        return \"sacred\"\n",
    "    else:\n",
    "        return \"other\"\n",
    "\n",
    "df[\"environment_type\"] = df[\"environment_type\"].apply(group_environment_type)\n",
    "print(df['environment_type'].unique())"
   ]
  },
  {
   "cell_type": "code",
   "execution_count": 23,
   "id": "f0a63031",
   "metadata": {},
   "outputs": [
    {
     "name": "stdout",
     "output_type": "stream",
     "text": [
      "['major' 'minor' 'military' 'royal' 'legendary' 'moderate' 'other'\n",
      " 'archaeological' 'ritual' 'none' 'maritime' 'Not Mentioned' 'mystical']\n"
     ]
    }
   ],
   "source": [
    "def group_historical_significance(value):\n",
    "    if pd.isna(value) or value.lower() == \"not mentioned\":\n",
    "        return \"Not Mentioned\"\n",
    "    \n",
    "    v = value.lower()\n",
    "    \n",
    "    if \"legendary\" in v:\n",
    "        return \"legendary\"\n",
    "    elif \"major\" in v:\n",
    "        return \"major\"\n",
    "    elif \"moderate\" in v or \"significant\" in v or \"substantial\" in v:\n",
    "        return \"moderate\"\n",
    "    elif \"minor\" in v or \"minimal\" in v or \"low\" in v:\n",
    "        return \"minor\"\n",
    "    elif \"archaeological\" in v:\n",
    "        return \"archaeological\"\n",
    "    elif \"maritime\" in v:\n",
    "        return \"maritime\"\n",
    "    elif \"military\" in v:\n",
    "        return \"military\"\n",
    "    elif \"ritual\" in v or \"ceremonial\" in v or \"sacred\" in v or \"religious\" in v:\n",
    "        return \"ritual\"\n",
    "    elif \"royal\" in v:\n",
    "        return \"royal\"\n",
    "    elif \"mystical\" in v:\n",
    "        return \"mystical\"\n",
    "    elif \"none\" in v:\n",
    "        return \"none\"\n",
    "    else:\n",
    "        return \"other\"\n",
    "df[\"historical_significance\"] = df[\"historical_significance\"].apply(group_historical_significance)\n",
    "print(df['historical_significance'].unique())"
   ]
  },
  {
   "cell_type": "code",
   "execution_count": 24,
   "id": "5205d736",
   "metadata": {},
   "outputs": [
    {
     "name": "stdout",
     "output_type": "stream",
     "text": [
      "\n",
      "==== primary_color unique values ====\n",
      "['Not Mentioned', 'black', 'blue', 'copper', 'gold/bronze', 'green', 'purple', 'red', 'silver', 'white']\n",
      "\n",
      "==== surface_texture unique values ====\n",
      "['engraved/etched', 'ornate/intricate', 'polished', 'rough', 'weathered']\n",
      "\n",
      "==== origin_culture unique values ====\n",
      "['Not Mentioned', 'ancient', 'greek/roman/byzantine', 'maritime/pirate', 'military/imperial', 'mixed', 'other', 'religious/monastic', 'royal', 'tribal']\n",
      "\n",
      "==== inscription_script unique values ====\n",
      "['Not Mentioned', 'ancient', 'cuneiform', 'greek', 'hieroglyphic', 'latin', 'military', 'nautical/maritime', 'other', 'runic', 'symbolic', 'tribal', 'unknown']\n",
      "\n",
      "==== pattern_type unique values ====\n",
      "['Not Mentioned', 'abstract', 'animal', 'celestial', 'floral', 'geometric', 'maritime', 'minimal', 'other', 'symbolic', 'tribal']\n",
      "\n",
      "==== environment_type unique values ====\n",
      "['Not Mentioned', 'battlefield', 'cave', 'coastal', 'desert', 'mountain', 'other', 'palace', 'shipwreck', 'temple', 'tomb']\n",
      "\n",
      "==== historical_significance unique values ====\n",
      "['Not Mentioned', 'archaeological', 'legendary', 'major', 'maritime', 'military', 'minor', 'moderate', 'mystical', 'none', 'other', 'ritual', 'royal']\n"
     ]
    }
   ],
   "source": [
    "high_card_cols = [\n",
    "    \"primary_color\",\n",
    "    \"surface_texture\",\n",
    "    \"origin_culture\",\n",
    "    \"inscription_script\",\n",
    "    \"pattern_type\",\n",
    "    \"environment_type\",\n",
    "    \"historical_significance\"\n",
    "]\n",
    "\n",
    "for col in high_card_cols:\n",
    "    print(f\"\\n==== {col} unique values ====\")\n",
    "    print(sorted(df[col].unique()))"
   ]
  },
  {
   "cell_type": "code",
   "execution_count": 25,
   "id": "ddc19750",
   "metadata": {},
   "outputs": [
    {
     "name": "stdout",
     "output_type": "stream",
     "text": [
      "\n",
      "--- item_type ---\n",
      "Unique values: 8\n",
      "\n",
      "--- primary_material ---\n",
      "Unique values: 45\n",
      "\n",
      "--- secondary_material ---\n",
      "Unique values: 51\n",
      "\n",
      "--- gem_type ---\n",
      "Unique values: 15\n",
      "\n",
      "--- primary_color ---\n",
      "Unique values: 10\n",
      "\n",
      "--- surface_texture ---\n",
      "Unique values: 5\n",
      "\n",
      "--- rarity_level ---\n",
      "Unique values: 7\n",
      "\n",
      "--- origin_culture ---\n",
      "Unique values: 10\n",
      "\n",
      "--- inscription_script ---\n",
      "Unique values: 13\n",
      "\n",
      "--- pattern_type ---\n",
      "Unique values: 11\n",
      "\n",
      "--- craftsmanship_level ---\n",
      "Unique values: 31\n",
      "\n",
      "--- environment_type ---\n",
      "Unique values: 11\n",
      "\n",
      "--- oxidation_level ---\n",
      "Unique values: 10\n",
      "\n",
      "--- restoration_status ---\n",
      "Unique values: 32\n",
      "\n",
      "--- authentication_status ---\n",
      "Unique values: 31\n",
      "\n",
      "--- historical_significance ---\n",
      "Unique values: 13\n",
      "\n",
      "--- description ---\n",
      "Unique values: 8000\n"
     ]
    }
   ],
   "source": [
    "cat_cols = df.select_dtypes(include=\"object\").columns.tolist()\n",
    "\n",
    "for col in cat_cols:\n",
    "    print(f\"\\n--- {col} ---\")\n",
    "    print(f\"Unique values: {df[col].nunique()}\")"
   ]
  },
  {
   "cell_type": "code",
   "execution_count": 26,
   "id": "01eeaf4c",
   "metadata": {},
   "outputs": [],
   "source": [
    "from sklearn.model_selection import train_test_split\n",
    "\n",
    "X_train_df, X_test_df, y_train, y_test = train_test_split(\n",
    "    df.drop(columns=[\"preservation_score\"]),\n",
    "    df[\"preservation_score\"],\n",
    "    test_size=0.2,\n",
    "    random_state=42\n",
    ")"
   ]
  },
  {
   "cell_type": "code",
   "execution_count": 27,
   "id": "158af03f",
   "metadata": {},
   "outputs": [
    {
     "name": "stdout",
     "output_type": "stream",
     "text": [
      "Requirement already satisfied: gensim in c:\\users\\raghu vamsi\\anaconda3\\envs\\rgv-env\\lib\\site-packages (4.3.3)\n",
      "Requirement already satisfied: numpy<2.0,>=1.18.5 in c:\\users\\raghu vamsi\\anaconda3\\envs\\rgv-env\\lib\\site-packages (from gensim) (1.26.4)\n",
      "Requirement already satisfied: scipy<1.14.0,>=1.7.0 in c:\\users\\raghu vamsi\\anaconda3\\envs\\rgv-env\\lib\\site-packages (from gensim) (1.13.1)\n",
      "Requirement already satisfied: smart-open>=1.8.1 in c:\\users\\raghu vamsi\\anaconda3\\envs\\rgv-env\\lib\\site-packages (from gensim) (7.1.0)\n",
      "Requirement already satisfied: wrapt in c:\\users\\raghu vamsi\\anaconda3\\envs\\rgv-env\\lib\\site-packages (from smart-open>=1.8.1->gensim) (1.17.2)\n",
      "Note: you may need to restart the kernel to use updated packages.\n"
     ]
    }
   ],
   "source": [
    "pip install --upgrade gensim\n"
   ]
  },
  {
   "cell_type": "code",
   "execution_count": 28,
   "id": "f984eb6a",
   "metadata": {},
   "outputs": [],
   "source": [
    "from gensim.models import Word2Vec\n",
    "\n",
    "train_sentences = X_train_df[\"description\"].apply(lambda x: x.lower().split()).tolist()\n",
    "\n",
    "w2v_model = Word2Vec(\n",
    "    sentences=train_sentences,\n",
    "    vector_size=50,\n",
    "    window=5,\n",
    "    min_count=1,\n",
    "    workers=4,\n",
    "    seed=42\n",
    ")\n"
   ]
  },
  {
   "cell_type": "code",
   "execution_count": 29,
   "id": "55210746",
   "metadata": {},
   "outputs": [
    {
     "name": "stdout",
     "output_type": "stream",
     "text": [
      "(6400, 50)\n",
      "(1600, 50)\n"
     ]
    }
   ],
   "source": [
    "import numpy as np\n",
    "\n",
    "def get_avg_w2v(sentence, model, vector_size):\n",
    "    words = sentence.lower().split()\n",
    "    valid_words = [w for w in words if w in model.wv.key_to_index]\n",
    "    if not valid_words:\n",
    "        return np.zeros(vector_size)\n",
    "    return np.mean(model.wv[valid_words], axis=0)\n",
    "\n",
    "# Train embeddings\n",
    "w2v_train = np.vstack(\n",
    "    X_train_df[\"description\"].apply(lambda x: get_avg_w2v(x, w2v_model, 50)).values\n",
    ")\n",
    "\n",
    "# Test embeddings\n",
    "w2v_test = np.vstack(\n",
    "    X_test_df[\"description\"].apply(lambda x: get_avg_w2v(x, w2v_model, 50)).values\n",
    ")\n",
    "\n",
    "# Confirm shapes\n",
    "print(w2v_train.shape)\n",
    "print(w2v_test.shape)\n"
   ]
  },
  {
   "cell_type": "code",
   "execution_count": 30,
   "id": "ce7bafe3",
   "metadata": {},
   "outputs": [],
   "source": [
    "X_train_meta = X_train_df.drop(columns=[\"id\", \"description\"])\n",
    "X_test_meta = X_test_df.drop(columns=[\"id\", \"description\"])\n",
    "\n",
    "num_cols = X_train_meta.select_dtypes(include=[\"float64\", \"int64\"]).columns.tolist()\n",
    "cat_cols = X_train_meta.select_dtypes(include=[\"object\"]).columns.tolist()\n",
    "\n"
   ]
  },
  {
   "cell_type": "code",
   "execution_count": 31,
   "id": "8d9773e3",
   "metadata": {},
   "outputs": [
    {
     "name": "stdout",
     "output_type": "stream",
     "text": [
      "(6400, 307)\n",
      "(1600, 307)\n"
     ]
    }
   ],
   "source": [
    "from sklearn.preprocessing import StandardScaler, OneHotEncoder\n",
    "from sklearn.compose import ColumnTransformer\n",
    "\n",
    "preprocessor = ColumnTransformer([\n",
    "    (\"num\", StandardScaler(), num_cols),\n",
    "    (\"cat\", OneHotEncoder(handle_unknown=\"ignore\", sparse_output=False), cat_cols)\n",
    "])\n",
    "\n",
    "# Fit on train only\n",
    "preprocessor.fit(X_train_meta)\n",
    "\n",
    "# Transform both\n",
    "X_train_meta_transformed = preprocessor.transform(X_train_meta)\n",
    "X_test_meta_transformed = preprocessor.transform(X_test_meta)\n",
    "\n",
    "print(X_train_meta_transformed.shape)\n",
    "print(X_test_meta_transformed.shape)\n"
   ]
  },
  {
   "cell_type": "code",
   "execution_count": 32,
   "id": "889083ca",
   "metadata": {},
   "outputs": [
    {
     "name": "stdout",
     "output_type": "stream",
     "text": [
      "(6400, 357)\n",
      "(1600, 357)\n"
     ]
    }
   ],
   "source": [
    "import numpy as np\n",
    "\n",
    "X_train_final = np.hstack([X_train_meta_transformed, w2v_train])\n",
    "X_test_final = np.hstack([X_test_meta_transformed, w2v_test])\n",
    "\n",
    "print(X_train_final.shape)\n",
    "print(X_test_final.shape)\n"
   ]
  },
  {
   "cell_type": "code",
   "execution_count": 33,
   "id": "b70fb35b",
   "metadata": {},
   "outputs": [
    {
     "data": {
      "text/plain": [
       "array([ 0.20624416,  0.34187344,  1.40425706,  2.91530766, -1.54348408,\n",
       "       -0.79331529,  0.92586488,  1.94966672,  0.06109873, -0.42803407,\n",
       "       -0.00587526, -0.11660086, -0.49560152, -0.89894943,  0.        ,\n",
       "        0.        ,  1.        ,  0.        ,  0.        ,  0.        ,\n",
       "        0.        ,  0.        ,  0.        ,  0.        ,  0.        ,\n",
       "        0.        ,  1.        ,  0.        ,  0.        ,  0.        ,\n",
       "        0.        ,  0.        ,  0.        ,  0.        ,  0.        ,\n",
       "        0.        ,  0.        ,  0.        ,  0.        ,  0.        ,\n",
       "        0.        ,  0.        ,  0.        ,  0.        ,  0.        ,\n",
       "        0.        ,  0.        ,  0.        ,  0.        ,  0.        ,\n",
       "        0.        ,  0.        ,  0.        ,  0.        ,  0.        ,\n",
       "        0.        ,  0.        ,  0.        ,  0.        ,  0.        ,\n",
       "        0.        ,  0.        ,  0.        ,  0.        ,  0.        ,\n",
       "        0.        ,  0.        ,  0.        ,  0.        ,  0.        ,\n",
       "        1.        ,  0.        ,  0.        ,  0.        ,  0.        ,\n",
       "        0.        ,  0.        ,  0.        ,  0.        ,  0.        ,\n",
       "        0.        ,  0.        ,  0.        ,  0.        ,  0.        ,\n",
       "        0.        ,  0.        ,  0.        ,  0.        ,  0.        ,\n",
       "        0.        ,  0.        ,  0.        ,  0.        ,  0.        ,\n",
       "        0.        ,  0.        ,  0.        ,  0.        ,  0.        ,\n",
       "        0.        ,  0.        ,  0.        ,  0.        ,  0.        ,\n",
       "        0.        ,  0.        ,  0.        ,  0.        ,  0.        ,\n",
       "        0.        ,  0.        ,  0.        ,  0.        ,  0.        ,\n",
       "        0.        ,  0.        ,  0.        ,  0.        ,  1.        ,\n",
       "        0.        ,  0.        ,  0.        ,  0.        ,  0.        ,\n",
       "        0.        ,  0.        ,  0.        ,  0.        ,  0.        ,\n",
       "        0.        ,  0.        ,  0.        ,  0.        ,  0.        ,\n",
       "        0.        ,  1.        ,  0.        ,  0.        ,  0.        ,\n",
       "        0.        ,  1.        ,  0.        ,  0.        ,  0.        ,\n",
       "        0.        ,  0.        ,  0.        ,  0.        ,  1.        ,\n",
       "        0.        ,  0.        ,  0.        ,  0.        ,  1.        ,\n",
       "        0.        ,  0.        ,  0.        ,  0.        ,  0.        ,\n",
       "        0.        ,  0.        ,  1.        ,  0.        ,  0.        ,\n",
       "        0.        ,  0.        ,  0.        ,  0.        ,  0.        ,\n",
       "        0.        ,  0.        ,  0.        ,  0.        ,  0.        ,\n",
       "        0.        ,  0.        ,  0.        ,  1.        ,  0.        ,\n",
       "        0.        ,  0.        ,  0.        ,  0.        ,  0.        ,\n",
       "        0.        ,  0.        ,  0.        ,  0.        ,  0.        ,\n",
       "        0.        ,  0.        ,  0.        ,  0.        ,  0.        ,\n",
       "        0.        ,  0.        ,  0.        ,  0.        ,  0.        ,\n",
       "        0.        ,  0.        ,  0.        ,  0.        ,  1.        ,\n",
       "        0.        ,  0.        ,  0.        ,  0.        ,  0.        ,\n",
       "        0.        ,  0.        ,  0.        ,  0.        ,  0.        ,\n",
       "        0.        ,  1.        ,  0.        ,  0.        ,  0.        ,\n",
       "        0.        ,  0.        ,  0.        ,  0.        ,  0.        ,\n",
       "        0.        ,  0.        ,  0.        ,  0.        ,  0.        ,\n",
       "        0.        ,  0.        ,  0.        ,  0.        ,  1.        ,\n",
       "        0.        ,  0.        ,  0.        ,  1.        ,  0.        ,\n",
       "        0.        ,  0.        ,  0.        ,  0.        ,  0.        ,\n",
       "        0.        ,  0.        ,  0.        ,  0.        ,  0.        ,\n",
       "        0.        ,  0.        ,  0.        ,  0.        ,  0.        ,\n",
       "        0.        ,  0.        ,  0.        ,  0.        ,  0.        ,\n",
       "        0.        ,  0.        ,  0.        ,  0.        ,  0.        ,\n",
       "        0.        ,  0.        ,  0.        ,  0.        ,  0.        ,\n",
       "        0.        ,  0.        ,  0.        ,  0.        ,  0.        ,\n",
       "        0.        ,  0.        ,  0.        ,  1.        ,  0.        ,\n",
       "        0.        ,  0.        ,  0.        ,  0.        ,  0.        ,\n",
       "        0.        ,  0.        ,  0.        ,  0.        ,  0.        ,\n",
       "        0.        ,  0.        ,  0.        ,  0.        ,  0.        ,\n",
       "        0.        ,  1.        ,  0.        ,  0.        ,  0.        ,\n",
       "        0.        ,  0.        ,  0.        ,  0.        ,  0.        ,\n",
       "        0.        ,  0.        ,  0.28672078, -0.4791449 , -0.27571741,\n",
       "       -0.0488525 ,  0.61777705,  0.46926659, -0.14162196,  0.56232536,\n",
       "        0.20140012, -0.27652055, -0.10384072,  0.40495408, -0.39031717,\n",
       "       -0.42732194, -0.79594201,  0.01568418,  0.32087815,  0.68721104,\n",
       "       -0.58009946,  0.15443167, -0.15773872,  0.21031845, -0.00564746,\n",
       "        0.12327626,  0.65540558,  0.07472246, -0.33096778,  0.45331627,\n",
       "       -0.63121319,  0.29771975, -0.19594999,  0.72239071,  0.20283459,\n",
       "       -0.61684811, -0.11233759, -0.4433867 , -0.17661124, -0.6539368 ,\n",
       "       -0.28251654, -0.57403731, -0.11996011,  0.07707936, -0.41854408,\n",
       "        0.25350973,  0.38359484,  0.60831958,  0.53306139,  0.2435436 ,\n",
       "       -0.03957839, -0.0801988 ])"
      ]
     },
     "execution_count": 33,
     "metadata": {},
     "output_type": "execute_result"
    }
   ],
   "source": [
    "X_train_final[0]"
   ]
  },
  {
   "cell_type": "code",
   "execution_count": null,
   "id": "980ff15c",
   "metadata": {},
   "outputs": [],
   "source": [
    "import joblib\n",
    "\n",
    "# Save ColumnTransformer\n",
    "joblib.dump(preprocessor, \"preprocessor.pkl\")\n",
    "\n",
    "# Save Word2Vec model\n",
    "w2v_model.save(\"word2vec.model\")"
   ]
  },
  {
   "cell_type": "code",
   "execution_count": 36,
   "id": "5d17f78c",
   "metadata": {},
   "outputs": [],
   "source": [
    "from sklearn.linear_model import Ridge, Lasso, ElasticNet\n",
    "from sklearn.tree import DecisionTreeRegressor\n",
    "from sklearn.ensemble import RandomForestRegressor, GradientBoostingRegressor, AdaBoostRegressor\n",
    "from sklearn.svm import SVR\n",
    "from sklearn.neighbors import KNeighborsRegressor\n",
    "from xgboost import XGBRegressor\n",
    "from lightgbm import LGBMRegressor\n",
    "\n",
    "models = {\n",
    "    \"ridge\": Ridge(),\n",
    "    \"lasso\": Lasso(max_iter=5000),\n",
    "    \"elasticnet\": ElasticNet(max_iter=5000),\n",
    "    \"decision_tree\": DecisionTreeRegressor(),\n",
    "    \"random_forest\": RandomForestRegressor(),\n",
    "    \"gradient_boosting\": GradientBoostingRegressor(),\n",
    "    \"ada_boost\": AdaBoostRegressor(),\n",
    "    \"svr\": SVR(),\n",
    "    \"knn\": KNeighborsRegressor(),\n",
    "    \"xgboost\": XGBRegressor(),\n",
    "    \"lightgbm\": LGBMRegressor()\n",
    "}\n"
   ]
  },
  {
   "cell_type": "code",
   "execution_count": 37,
   "id": "c4a8e1b5",
   "metadata": {},
   "outputs": [],
   "source": [
    "param_grids = {\n",
    "    \"ridge\": {\n",
    "        \"alpha\": [0.1, 1.0, 10.0, 100.0]\n",
    "    },\n",
    "    \"lasso\": {\n",
    "        \"alpha\": [0.001, 0.01, 0.1, 1.0, 10.0]\n",
    "    },\n",
    "    \"elasticnet\": {\n",
    "        \"alpha\": [0.01, 0.1, 1.0],\n",
    "        \"l1_ratio\": [0.2, 0.5, 0.8]\n",
    "    },\n",
    "    \"decision_tree\": {\n",
    "        \"max_depth\": [None, 5, 10, 20],\n",
    "        \"min_samples_split\": [2, 5, 10]\n",
    "    },\n",
    "    \"random_forest\": {\n",
    "        \"n_estimators\": [50, 100, 200],\n",
    "        \"max_depth\": [None, 10, 20],\n",
    "        \"min_samples_split\": [2, 5]\n",
    "    },\n",
    "    \"gradient_boosting\": {\n",
    "        \"n_estimators\": [50, 100, 200],\n",
    "        \"learning_rate\": [0.01, 0.1, 0.2],\n",
    "        \"max_depth\": [3, 5]\n",
    "    },\n",
    "    \"ada_boost\": {\n",
    "        \"n_estimators\": [50, 100, 200],\n",
    "        \"learning_rate\": [0.01, 0.1, 1.0]\n",
    "    },\n",
    "    \"svr\": {\n",
    "        \"C\": [0.1, 1.0, 10.0],\n",
    "        \"epsilon\": [0.01, 0.1, 0.2],\n",
    "        \"kernel\": [\"linear\", \"rbf\"]\n",
    "    },\n",
    "    \"knn\": {\n",
    "        \"n_neighbors\": [3, 5, 10],\n",
    "        \"weights\": [\"uniform\", \"distance\"],\n",
    "        \"p\": [1, 2]\n",
    "    },\n",
    "    \"xgboost\": {\n",
    "        \"n_estimators\": [50, 100, 200],\n",
    "        \"learning_rate\": [0.01, 0.1, 0.2],\n",
    "        \"max_depth\": [3, 5, 7]\n",
    "    },\n",
    "    \"lightgbm\": {\n",
    "        \"n_estimators\": [50, 100, 200],\n",
    "        \"learning_rate\": [0.01, 0.1, 0.2],\n",
    "        \"max_depth\": [-1, 5, 10]\n",
    "    }\n",
    "}\n"
   ]
  },
  {
   "cell_type": "code",
   "execution_count": 38,
   "id": "0baf3e8c",
   "metadata": {},
   "outputs": [
    {
     "name": "stdout",
     "output_type": "stream",
     "text": [
      "Training ridge...\n",
      "Best params for ridge: {'alpha': 1.0}\n",
      "Training lasso...\n",
      "Best params for lasso: {'alpha': 0.001}\n",
      "Training elasticnet...\n",
      "Best params for elasticnet: {'alpha': 0.01, 'l1_ratio': 0.8}\n",
      "Training decision_tree...\n",
      "Best params for decision_tree: {'max_depth': 5, 'min_samples_split': 10}\n",
      "Training random_forest...\n",
      "Best params for random_forest: {'max_depth': 20, 'min_samples_split': 5, 'n_estimators': 200}\n",
      "Training gradient_boosting...\n",
      "Best params for gradient_boosting: {'learning_rate': 0.1, 'max_depth': 3, 'n_estimators': 200}\n",
      "Training ada_boost...\n",
      "Best params for ada_boost: {'learning_rate': 1.0, 'n_estimators': 100}\n",
      "Training svr...\n",
      "Best params for svr: {'C': 10.0, 'epsilon': 0.2, 'kernel': 'linear'}\n",
      "Training knn...\n",
      "Best params for knn: {'n_neighbors': 10, 'p': 1, 'weights': 'distance'}\n",
      "Training xgboost...\n",
      "Best params for xgboost: {'learning_rate': 0.1, 'max_depth': 3, 'n_estimators': 200}\n",
      "Training lightgbm...\n",
      "[LightGBM] [Info] Auto-choosing col-wise multi-threading, the overhead of testing was 0.005286 seconds.\n",
      "You can set `force_col_wise=true` to remove the overhead.\n",
      "[LightGBM] [Info] Total Bins 14863\n",
      "[LightGBM] [Info] Number of data points in the train set: 6400, number of used features: 224\n",
      "[LightGBM] [Info] Start training from score 74.629478\n",
      "Best params for lightgbm: {'learning_rate': 0.1, 'max_depth': -1, 'n_estimators': 200}\n"
     ]
    }
   ],
   "source": [
    "from sklearn.model_selection import GridSearchCV\n",
    "\n",
    "best_models = {}\n",
    "\n",
    "for name, model in models.items():\n",
    "    print(f\"Training {name}...\")\n",
    "    grid = GridSearchCV(\n",
    "        estimator=model,\n",
    "        param_grid=param_grids[name],\n",
    "        scoring=\"neg_mean_squared_error\",\n",
    "        cv=5,\n",
    "        n_jobs=-1\n",
    "    )\n",
    "    grid.fit(X_train_final, y_train)\n",
    "    best_models[name] = grid.best_estimator_\n",
    "    print(f\"Best params for {name}: {grid.best_params_}\")\n"
   ]
  },
  {
   "cell_type": "code",
   "execution_count": 39,
   "id": "7356e7f2",
   "metadata": {},
   "outputs": [
    {
     "name": "stdout",
     "output_type": "stream",
     "text": [
      "\n",
      "Evaluating models on the test set...\n",
      "\n",
      "Model: ridge\n",
      "Test MSE: 155.4846\n",
      "Test RMSE: 12.4693\n",
      "Test R2: 0.7094\n",
      "\n",
      "Model: lasso\n",
      "Test MSE: 155.1459\n",
      "Test RMSE: 12.4558\n",
      "Test R2: 0.7100\n",
      "\n",
      "Model: elasticnet\n",
      "Test MSE: 156.3307\n",
      "Test RMSE: 12.5032\n",
      "Test R2: 0.7078\n",
      "\n",
      "Model: decision_tree\n",
      "Test MSE: 281.5001\n",
      "Test RMSE: 16.7780\n",
      "Test R2: 0.4738\n",
      "\n",
      "Model: random_forest\n",
      "Test MSE: 211.1059\n",
      "Test RMSE: 14.5295\n",
      "Test R2: 0.6054\n",
      "\n",
      "Model: gradient_boosting\n",
      "Test MSE: 160.0180\n",
      "Test RMSE: 12.6498\n",
      "Test R2: 0.7009\n",
      "\n",
      "Model: ada_boost\n",
      "Test MSE: 295.6327\n",
      "Test RMSE: 17.1940\n",
      "Test R2: 0.4474\n",
      "\n",
      "Model: svr\n",
      "Test MSE: 159.1941\n",
      "Test RMSE: 12.6172\n",
      "Test R2: 0.7024\n",
      "\n",
      "Model: knn\n",
      "Test MSE: 358.0183\n",
      "Test RMSE: 18.9214\n",
      "Test R2: 0.3308\n",
      "\n",
      "Model: xgboost\n",
      "Test MSE: 159.5777\n",
      "Test RMSE: 12.6324\n",
      "Test R2: 0.7017\n",
      "\n",
      "Model: lightgbm\n",
      "Test MSE: 158.6502\n",
      "Test RMSE: 12.5956\n",
      "Test R2: 0.7035\n"
     ]
    },
    {
     "name": "stderr",
     "output_type": "stream",
     "text": [
      "c:\\Users\\Raghu Vamsi\\anaconda3\\envs\\rgv-env\\Lib\\site-packages\\sklearn\\utils\\validation.py:2749: UserWarning: X does not have valid feature names, but LGBMRegressor was fitted with feature names\n",
      "  warnings.warn(\n"
     ]
    }
   ],
   "source": [
    "from sklearn.metrics import mean_squared_error, r2_score\n",
    "\n",
    "# Dictionary to store test results\n",
    "test_results = {}\n",
    "\n",
    "print(\"\\nEvaluating models on the test set...\")\n",
    "for name, model in best_models.items():\n",
    "    print(f\"\\nModel: {name}\")\n",
    "    y_pred = model.predict(X_test_final)\n",
    "    \n",
    "    mse = mean_squared_error(y_test, y_pred)\n",
    "    rmse = mse ** 0.5\n",
    "    r2 = r2_score(y_test, y_pred)\n",
    "    \n",
    "    test_results[name] = {\n",
    "        \"MSE\": mse,\n",
    "        \"RMSE\": rmse,\n",
    "        \"R2\": r2\n",
    "    }\n",
    "    \n",
    "    print(f\"Test MSE: {mse:.4f}\")\n",
    "    print(f\"Test RMSE: {rmse:.4f}\")\n",
    "    print(f\"Test R2: {r2:.4f}\")\n"
   ]
  },
  {
   "cell_type": "code",
   "execution_count": 40,
   "id": "7a5b8857",
   "metadata": {},
   "outputs": [
    {
     "name": "stdout",
     "output_type": "stream",
     "text": [
      "\n",
      "✅ Best model overall: lasso\n"
     ]
    }
   ],
   "source": [
    "best_model_name = min(test_results, key=lambda k: test_results[k][\"RMSE\"])\n",
    "best_model = best_models[best_model_name]\n",
    "\n",
    "print(f\"\\n✅ Best model overall: {best_model_name}\")"
   ]
  },
  {
   "cell_type": "code",
   "execution_count": 41,
   "id": "fc23ff3a",
   "metadata": {},
   "outputs": [
    {
     "data": {
      "image/png": "[encoded data removed]",
      "text/plain": [
       "<Figure size 800x600 with 1 Axes>"
      ]
     },
     "metadata": {},
     "output_type": "display_data"
    }
   ],
   "source": [
    "import matplotlib.pyplot as plt\n",
    "import seaborn as sns\n",
    "from sklearn.metrics import r2_score\n",
    "\n",
    "# Get predictions\n",
    "y_pred = best_model.predict(X_test_final)\n",
    "\n",
    "# Scatter plot\n",
    "plt.figure(figsize=(8, 6))\n",
    "sns.scatterplot(x=y_test, y=y_pred, alpha=0.6, color='teal')\n",
    "plt.plot([y_test.min(), y_test.max()], [y_test.min(), y_test.max()], 'r--')\n",
    "plt.xlabel(\"Actual Preservation Score\")\n",
    "plt.ylabel(\"Predicted Preservation Score\")\n",
    "plt.title(f\"Actual vs. Predicted - {best_model_name} (R² = {r2_score(y_test, y_pred):.3f})\")\n",
    "plt.grid(True)\n",
    "plt.tight_layout()\n",
    "plt.show()\n"
   ]
  },
  {
   "cell_type": "code",
   "execution_count": null,
   "id": "6c002663",
   "metadata": {},
   "outputs": [],
   "source": []
  }
 ],
 "metadata": {
  "kernelspec": {
   "display_name": "rgv-env",
   "language": "python",
   "name": "python3"
  },
  "language_info": {
   "codemirror_mode": {
    "name": "ipython",
    "version": 3
   },
   "file_extension": ".py",
   "mimetype": "text/x-python",
   "name": "python",
   "nbconvert_exporter": "python",
   "pygments_lexer": "ipython3",
   "version": "3.12.9"
  }
 },
 "nbformat": 4,
 "nbformat_minor": 5
}
